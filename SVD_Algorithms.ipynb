{
 "cells": [
  {
   "cell_type": "code",
   "execution_count": 1,
   "metadata": {
    "pycharm": {
     "name": "#%%\n"
    }
   },
   "outputs": [],
   "source": [
    "import numpy as np\n",
    "import numpy.linalg as la"
   ]
  },
  {
   "cell_type": "code",
   "execution_count": 2,
   "metadata": {
    "pycharm": {
     "name": "#%%\n"
    }
   },
   "outputs": [],
   "source": [
    "#SVD algorithms\n",
    "def calculate_eigh_ATA(A):\n",
    "    '''\n",
    "        Calculate the eigenvalues and eigenvectors of matrix A^T.A\n",
    "        Arguments:\n",
    "            A: numpy array - the image\n",
    "        Returns:\n",
    "            eigenvalues: numpy array\n",
    "            eigenvectors: numpy array\n",
    "    '''\n",
    "    ATA = np.dot(A.T, A)\n",
    "    eigenvalues, eigenvectors = la.eigh(ATA)\n",
    "    eigenvalues = np.maximum(eigenvalues, 0.)\n",
    "\n",
    "    #Sort descending\n",
    "    sorted_index = eigenvalues.argsort()[::-1]\n",
    "    eigenvalues = eigenvalues[sorted_index]\n",
    "    eigenvectors = eigenvectors[:, sorted_index]\n",
    "\n",
    "    return eigenvalues, eigenvectors\n",
    "\n",
    "def calculate_svd(A):\n",
    "    '''\n",
    "        Using SVD to calculate U, sigma and V^T matrices of matrix A\n",
    "        Arguments:\n",
    "            A: numpy array - the image\n",
    "        Returns:\n",
    "            U: numpy array\n",
    "            sigma: numpy array\n",
    "            V_T: numpy array\n",
    "    '''\n",
    "    m = A.shape[0]\n",
    "    n = A.shape[1]\n",
    "\n",
    "    #Check to know calculate U or V^T first\n",
    "    if m >= n:\n",
    "        eigenvalues, eigenvectors = calculate_eigh_ATA(A.T)\n",
    "\n",
    "        sigma = np.zeros([m, n])\n",
    "        for i in range(min(m, n)):\n",
    "            sigma[i][i] = max(eigenvalues[i], 0.)\n",
    "        sigma = np.maximum(np.sqrt(sigma), 0)\n",
    "\n",
    "        U = eigenvectors\n",
    "\n",
    "        V = np.zeros([n, n])\n",
    "        for i in range(n):\n",
    "            V[:, i] = np.dot(A.T, U[:, i]) / sigma[i][i]\n",
    "        V_T = V.T\n",
    "    else:\n",
    "        eigenvalues, eigenvectors = calculate_eigh_ATA(A)\n",
    "\n",
    "        sigma = np.zeros([m, n])\n",
    "        for i in range(min(m, n)):\n",
    "            sigma[i][i] = max(eigenvalues[i], 0.)\n",
    "        sigma = np.maximum(np.sqrt(sigma), 0)\n",
    "\n",
    "        V = eigenvectors\n",
    "        V_T = V.T\n",
    "\n",
    "        U = np.zeros([m, m])\n",
    "        for i in range(m):\n",
    "            U[:, i] = np.dot(A, V[:, i]) / sigma[i][i]\n",
    "\n",
    "    return U, sigma, V_T\n",
    "\n",
    "\n",
    "def find_A_approx(A, rank):\n",
    "    '''\n",
    "        Calculate the matrix A_approximately of A with rank using SVD\n",
    "        Arguments:\n",
    "            A: numpy array - the image\n",
    "            rank: int - the rank of the approximate matrix,\n",
    "                the greater the rank is the more accuracy the approximate image is\n",
    "        Returns:\n",
    "            result: numpy array - the approximately image\n",
    "            error: float - the error of the approximate image\n",
    "    '''\n",
    "    U, sigma, V_T = calculate_svd(A)\n",
    "    #Approximate matrix with rank\n",
    "    new_A = U[:, :rank] @ sigma[:rank, :rank] @ V_T[:rank, :]\n",
    "    #Calculate error\n",
    "    if rank < min(A.shape[0], A.shape[1]):\n",
    "      error = np.sum(sigma[rank:, :])/ np.sum(sigma)\n",
    "    else: \n",
    "      error = 0.\n",
    "    return new_A, error"
   ]
  },
  {
   "cell_type": "code",
   "execution_count": 10,
   "metadata": {
    "pycharm": {
     "name": "#%%\n"
    }
   },
   "outputs": [],
   "source": [
    "A = np.array([[1, 0, 1],\n",
    "              [-2, 1, 0]])"
   ]
  },
  {
   "cell_type": "code",
   "execution_count": 12,
   "metadata": {
    "pycharm": {
     "name": "#%%\n"
    }
   },
   "outputs": [
    {
     "name": "stdout",
     "output_type": "stream",
     "text": [
      "Reconstruct A matrix with rank 2 \n",
      " [[ 1.00000000e+00 -9.84273791e-17  1.00000000e+00]\n",
      " [-2.00000000e+00  1.00000000e+00 -9.84273791e-17]]\n",
      "Error: 0.0\n"
     ]
    }
   ],
   "source": [
    "while True:\n",
    "  try:\n",
    "    rank = int(input(\"Input rank: \"))\n",
    "    if rank > min(A.shape[0], A.shape[1]):\n",
    "      print('The number must be lower! Try again!')\n",
    "    elif rank < 0:\n",
    "      print('The number must be positive! Try again!')\n",
    "    else:\n",
    "      break\n",
    "  except ValueError:\n",
    "    print('Please input a number!. Try again!')\n",
    "  except:\n",
    "    print('Something went wrong')\n",
    "new_A, error = find_A_approx(A, rank)\n",
    "print('Reconstruct A matrix with rank', rank, '\\n', new_A)\n",
    "print(\"Error:\", error)"
   ]
  },
  {
   "cell_type": "code",
   "execution_count": null,
   "metadata": {
    "pycharm": {
     "name": "#%%\n"
    }
   },
   "outputs": [],
   "source": []
  }
 ],
 "metadata": {
  "interpreter": {
   "hash": "65a440aeac0c89e2af7569e0aa53b64434c4b69eb6285e2b0d174d9bca190d54"
  },
  "kernelspec": {
   "display_name": "Python 3.10.5 64-bit (windows store)",
   "language": "python",
   "name": "python3"
  },
  "language_info": {
   "codemirror_mode": {
    "name": "ipython",
    "version": 3
   },
   "file_extension": ".py",
   "mimetype": "text/x-python",
   "name": "python",
   "nbconvert_exporter": "python",
   "pygments_lexer": "ipython3",
   "version": "3.10.5"
  },
  "orig_nbformat": 4
 },
 "nbformat": 4,
 "nbformat_minor": 2
}